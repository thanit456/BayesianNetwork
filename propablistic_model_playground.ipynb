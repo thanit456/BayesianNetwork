{
  "nbformat": 4,
  "nbformat_minor": 0,
  "metadata": {
    "colab": {
      "name": "propablistic_model_playground.ipynb",
      "provenance": [],
      "authorship_tag": "ABX9TyNDcdonuIncIs2H+h6EeXI5",
      "include_colab_link": true
    },
    "kernelspec": {
      "name": "python3",
      "display_name": "Python 3"
    }
  },
  "cells": [
    {
      "cell_type": "markdown",
      "metadata": {
        "id": "view-in-github",
        "colab_type": "text"
      },
      "source": [
        "<a href=\"https://colab.research.google.com/github/thanit456/BayesianNetwork/blob/master/propablistic_model_playground.ipynb\" target=\"_parent\"><img src=\"https://colab.research.google.com/assets/colab-badge.svg\" alt=\"Open In Colab\"/></a>"
      ]
    },
    {
      "cell_type": "code",
      "metadata": {
        "id": "Z7jSt6oJyLIJ",
        "colab_type": "code",
        "colab": {
          "base_uri": "https://localhost:8080/",
          "height": 121
        },
        "outputId": "fd498420-8ba5-4644-f2ee-73531a367559"
      },
      "source": [
        "!pip install --upgrade tensorflow-probability"
      ],
      "execution_count": 11,
      "outputs": [
        {
          "output_type": "stream",
          "text": [
            "Requirement already up-to-date: tensorflow-probability in /usr/local/lib/python3.6/dist-packages (0.10.0rc0)\n",
            "Requirement already satisfied, skipping upgrade: decorator in /usr/local/lib/python3.6/dist-packages (from tensorflow-probability) (4.4.2)\n",
            "Requirement already satisfied, skipping upgrade: gast>=0.3.2 in /usr/local/lib/python3.6/dist-packages (from tensorflow-probability) (0.3.3)\n",
            "Requirement already satisfied, skipping upgrade: cloudpickle>=1.2.2 in /usr/local/lib/python3.6/dist-packages (from tensorflow-probability) (1.3.0)\n",
            "Requirement already satisfied, skipping upgrade: numpy>=1.13.3 in /usr/local/lib/python3.6/dist-packages (from tensorflow-probability) (1.18.4)\n",
            "Requirement already satisfied, skipping upgrade: six>=1.10.0 in /usr/local/lib/python3.6/dist-packages (from tensorflow-probability) (1.12.0)\n"
          ],
          "name": "stdout"
        }
      ]
    },
    {
      "cell_type": "code",
      "metadata": {
        "id": "VBE8SjxKtitr",
        "colab_type": "code",
        "colab": {}
      },
      "source": [
        "import numpy as np\n",
        "import tensorflow_probability as tfp\n",
        "import tensorflow as tf\n",
        "\n",
        "from tensorflow.keras import Sequential\n",
        "from tensorflow.keras.layers import Dense\n",
        "from tensorflow.keras.optimizers import Adam"
      ],
      "execution_count": 0,
      "outputs": []
    },
    {
      "cell_type": "code",
      "metadata": {
        "id": "YBzbM2VbtqfQ",
        "colab_type": "code",
        "colab": {}
      },
      "source": [
        "n = int(64)\n",
        "scale_tril = np.array([[1.6180, 0.],\n",
        "                       [-2.7183, 3.1415]]).astype(np.float32)\n",
        "scale_noise = 0.01\n",
        "x = tfp.distributions.Normal(loc=0, scale=1).sample([n, 2])                    \n",
        "eps = tfp.distributions.Normal(loc=0, scale=scale_noise).sample([n, 2])\n",
        "y = tfp.distributions.Bernoulli(logits=tf.reshape(\n",
        "    tf.matmul(x, scale_tril) + eps,\n",
        "    shape=[n, 1, 2, 1]\n",
        ")).sample()"
      ],
      "execution_count": 0,
      "outputs": []
    },
    {
      "cell_type": "code",
      "metadata": {
        "id": "nSTbdNfivorC",
        "colab_type": "code",
        "colab": {}
      },
      "source": [
        "event_shape = y.shape[1:].as_list()\n",
        "model = Sequential([\n",
        "                    Dense(tfp.layers.IndependentBernoulli.params_size(event_shape)),\n",
        "                    tfp.layers.IndependentBernoulli(event_shape),\n",
        "])"
      ],
      "execution_count": 0,
      "outputs": []
    },
    {
      "cell_type": "code",
      "metadata": {
        "id": "aCUWB_TLxmdb",
        "colab_type": "code",
        "colab": {}
      },
      "source": [
        "model.compile(optimizer=Adam(learning_rate=0.5),\n",
        "              loss=lambda y, model: -model.log_prob(y),\n",
        "              metrics=[])"
      ],
      "execution_count": 0,
      "outputs": []
    },
    {
      "cell_type": "code",
      "metadata": {
        "id": "qWbaMseix4Uj",
        "colab_type": "code",
        "colab": {
          "base_uri": "https://localhost:8080/",
          "height": 124
        },
        "outputId": "a3037132-434c-4f6a-c49c-4a4e6fb2cc3e"
      },
      "source": [
        "batch_size=100\n",
        "model.fit(x, y, \n",
        "          batch_size=batch_size,\n",
        "          epochs=10,\n",
        "          steps_per_epoch=n,\n",
        "          shuffle=True)\n",
        "print(model.get_weights())"
      ],
      "execution_count": 24,
      "outputs": [
        {
          "output_type": "stream",
          "text": [
            "Epoch 1/10\n",
            " 1/64 [..............................] - ETA: 0s - loss: 1.4801WARNING:tensorflow:Your input ran out of data; interrupting training. Make sure that your dataset or generator can generate at least `steps_per_epoch * epochs` batches (in this case, 640 batches). You may need to use the repeat() function when building your dataset.\n",
            "10/64 [===>..........................] - 0s 4ms/step - loss: 0.8574\n",
            "[array([[ 1.5151271,  1.6764711],\n",
            "       [-3.4653256,  4.0706406]], dtype=float32), array([ 1.0106779, -0.1510009], dtype=float32)]\n"
          ],
          "name": "stdout"
        }
      ]
    },
    {
      "cell_type": "code",
      "metadata": {
        "id": "Mp6Gfiqn22OF",
        "colab_type": "code",
        "colab": {}
      },
      "source": [
        ""
      ],
      "execution_count": 0,
      "outputs": []
    }
  ]
}